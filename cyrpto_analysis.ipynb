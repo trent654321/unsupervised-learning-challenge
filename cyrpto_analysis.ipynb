{
 "cells": [
  {
   "cell_type": "code",
   "execution_count": 3,
   "id": "eacdc534",
   "metadata": {},
   "outputs": [],
   "source": [
    "#imports\n",
    "import pandas as pd\n",
    "import os"
   ]
  },
  {
   "cell_type": "code",
   "execution_count": 64,
   "id": "13c4f2fc",
   "metadata": {},
   "outputs": [
    {
     "name": "stdout",
     "output_type": "stream",
     "text": [
      "Shape after import (1252, 7)\n",
      "Shape after filtering by IsTrading and dropping the column (1144, 6)\n",
      "Shape after dropna (685, 6)\n",
      "Shape after filtering for mined (637, 6)\n",
      "Shape after dropping columns(637, 4)\n"
     ]
    }
   ],
   "source": [
    "# read csv file from data folder. Dataset obtained from https://min-api.cryptocompare.com/data/all/coinlist\n",
    "file_path = os.path.join('.','data','crypto_data.csv')\n",
    "df = pd.read_csv(file_path)\n",
    "print(f'Shape after import {df.shape}')\n",
    "#Discard cryptocurrencies that are not being traded.\n",
    "df = df[df['IsTrading'] == True]\n",
    "df = df.drop(columns=['IsTrading'])\n",
    "print(f'Shape after filtering by IsTrading and dropping the column {df.shape}')\n",
    "#Remove Rows that have at least one null value\n",
    "df = df.dropna()\n",
    "print(f'Shape after dropna {df.shape}')\n",
    "#Filter for currencies that habe been mined\n",
    "df['TotalCoinSupply'] = pd.to_numeric(df['TotalCoinSupply'])\n",
    "df = df[df['TotalCoinSupply'] > 0]\n",
    "print(f'Shape after filtering for mined {df.shape}')\n",
    "#delete the CoinName column\n",
    "coin_names = df['CoinName']\n",
    "df = df.drop(columns=['Unnamed: 0', 'CoinName'])\n",
    "print(f'Shape after dropping columns{df.shape}')"
   ]
  },
  {
   "cell_type": "code",
   "execution_count": 63,
   "id": "97b83e05",
   "metadata": {},
   "outputs": [
    {
     "name": "stdout",
     "output_type": "stream",
     "text": [
      "(637, 4)\n",
      "78\n",
      "25\n"
     ]
    }
   ],
   "source": [
    "print(df.shape)\n",
    "\n",
    "df.head(25)\n",
    "df.dtypes\n",
    "print(f'number of unique elements ins{len(df['Algorithm'].unique())}')\n",
    "print(len(df['ProofType'].unique()))"
   ]
  },
  {
   "cell_type": "code",
   "execution_count": null,
   "id": "7c8c4ca4",
   "metadata": {},
   "outputs": [],
   "source": []
  }
 ],
 "metadata": {
  "kernelspec": {
   "display_name": "Python 3",
   "language": "python",
   "name": "python3"
  },
  "language_info": {
   "codemirror_mode": {
    "name": "ipython",
    "version": 3
   },
   "file_extension": ".py",
   "mimetype": "text/x-python",
   "name": "python",
   "nbconvert_exporter": "python",
   "pygments_lexer": "ipython3",
   "version": "3.6.10"
  }
 },
 "nbformat": 4,
 "nbformat_minor": 5
}
